{
  "nbformat": 4,
  "nbformat_minor": 0,
  "metadata": {
    "colab": {
      "provenance": [],
      "gpuType": "T4",
      "authorship_tag": "ABX9TyPf5gBOmw2eE+ZI8dVMRitQ",
      "include_colab_link": true
    },
    "kernelspec": {
      "name": "python3",
      "display_name": "Python 3"
    },
    "language_info": {
      "name": "python"
    },
    "accelerator": "GPU"
  },
  "cells": [
    {
      "cell_type": "markdown",
      "metadata": {
        "id": "view-in-github",
        "colab_type": "text"
      },
      "source": [
        "<a href=\"https://colab.research.google.com/github/kaosarul/Deep_Learning_Pytorch/blob/main/intro_colab.ipynb\" target=\"_parent\"><img src=\"https://colab.research.google.com/assets/colab-badge.svg\" alt=\"Open In Colab\"/></a>"
      ]
    },
    {
      "cell_type": "code",
      "execution_count": 3,
      "metadata": {
        "id": "NXZPz9GmYBPl"
      },
      "outputs": [],
      "source": [
        "import numpy as np\n",
        "import torch\n",
        "\n"
      ]
    },
    {
      "cell_type": "code",
      "source": [
        "np1 = np.random.rand(3,4)\n",
        "np1"
      ],
      "metadata": {
        "id": "6k96IuxIYVrm",
        "outputId": "5c385af6-a22c-4a38-90fe-67946afcfcdf",
        "colab": {
          "base_uri": "https://localhost:8080/"
        }
      },
      "execution_count": 6,
      "outputs": [
        {
          "output_type": "execute_result",
          "data": {
            "text/plain": [
              "array([[0.37227503, 0.89125252, 0.41307085, 0.72109786],\n",
              "       [0.78432459, 0.86171827, 0.43285595, 0.73643113],\n",
              "       [0.29376339, 0.57778524, 0.51564337, 0.06546183]])"
            ]
          },
          "metadata": {},
          "execution_count": 6
        }
      ]
    },
    {
      "cell_type": "code",
      "source": [
        "np.dtype"
      ],
      "metadata": {
        "colab": {
          "base_uri": "https://localhost:8080/"
        },
        "id": "bkiw3wuDgRyR",
        "outputId": "d31eb1c0-0d3a-4169-eebb-aeecbac53feb"
      },
      "execution_count": 7,
      "outputs": [
        {
          "output_type": "execute_result",
          "data": {
            "text/plain": [
              "numpy.dtype"
            ]
          },
          "metadata": {},
          "execution_count": 7
        }
      ]
    },
    {
      "cell_type": "code",
      "source": [
        "tensor_2d = torch.randn(3,4)\n",
        "tensor_2d"
      ],
      "metadata": {
        "colab": {
          "base_uri": "https://localhost:8080/"
        },
        "id": "CZ4mYg0hgeEa",
        "outputId": "efe0055a-8f04-4066-ecd3-bea568b9beae"
      },
      "execution_count": 8,
      "outputs": [
        {
          "output_type": "execute_result",
          "data": {
            "text/plain": [
              "tensor([[ 0.8491, -0.0920,  0.4506,  0.1508],\n",
              "        [ 0.3076,  0.0975,  1.3063,  1.1027],\n",
              "        [ 1.0528,  0.7608,  0.2128, -0.8006]])"
            ]
          },
          "metadata": {},
          "execution_count": 8
        }
      ]
    },
    {
      "cell_type": "code",
      "source": [
        "tensor_3d = torch.randn(2,3,4)\n",
        "tensor_3d"
      ],
      "metadata": {
        "colab": {
          "base_uri": "https://localhost:8080/"
        },
        "id": "JgMQbQF4g6f6",
        "outputId": "14c96beb-532c-4e0b-c12d-6d03565eefe9"
      },
      "execution_count": 9,
      "outputs": [
        {
          "output_type": "execute_result",
          "data": {
            "text/plain": [
              "tensor([[[ 0.3452, -0.9923, -0.3263,  0.1007],\n",
              "         [ 0.0955,  0.3476,  0.7393, -0.9165],\n",
              "         [ 0.5123, -1.0181, -0.6585,  1.8618]],\n",
              "\n",
              "        [[-1.9321,  0.8165, -0.1168,  0.5769],\n",
              "         [-0.2417,  0.0894,  0.7632,  0.5973],\n",
              "         [ 2.4982, -0.3449, -1.0751,  0.2208]]])"
            ]
          },
          "metadata": {},
          "execution_count": 9
        }
      ]
    }
  ]
}